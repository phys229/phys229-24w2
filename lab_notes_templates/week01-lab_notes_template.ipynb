{
 "cells": [
  {
   "cell_type": "markdown",
   "metadata": {
    "tags": []
   },
   "source": [
    "# Dec 31, 1999"
   ]
  },
  {
   "cell_type": "markdown",
   "metadata": {
    "tags": []
   },
   "source": [
    "Experiment 01 - Week 01\n",
    "<br>The Pendulum"
   ]
  },
  {
   "cell_type": "markdown",
   "metadata": {
    "tags": []
   },
   "source": [
    "Name: Statler Van Essex\n",
    "<br>Partner: Conrad Waldorf"
   ]
  },
  {
   "cell_type": "markdown",
   "metadata": {},
   "source": [
    "## *Instructions for Week 01*"
   ]
  },
  {
   "cell_type": "markdown",
   "metadata": {},
   "source": [
    "*(Edit the content above and the headers below, as appropriate.)*"
   ]
  },
  {
   "cell_type": "markdown",
   "metadata": {},
   "source": [
    "Keep notes as you go and engage with the following:\n",
    "* Develop an experimental objective (next week we will discuss refining this into a targeted research question)\n",
    "* Interact with the equipment to determine what sorts of quantities you can vary and how measurements might be performed. Consider measurement range, precision, sources of noise, and systematic uncertainties, as appropriate\n",
    "* Try to come up with at least two different procedures. For each procedure, consider the steps and equations needed to get from raw data to a final result\n",
    "* Collect a small test set of data, with uncertainties, for your most promising procedure.\n",
    "* Run these data through your data analysis procedure to see how things work out. Determine uncertainties in your results, and look for ways to improve the final result in the future\n",
    "* If you have time, repeat the above for one of your other procedures.\n",
    "\n",
    "As you develop an experimental objective, ask yourself:\n",
    "* Do you have a hypothesis that you can test?\n",
    "* Are you trying to develop an explanatory model for your system?\n",
    "* Can you determine a quantity experimentally and compare it to an expected value?\n",
    "* Can you graph measured quantities such that one of the fitting parameters provides your experimental value (such as slope)?"
   ]
  },
  {
   "cell_type": "markdown",
   "metadata": {},
   "source": [
    "## Header 1"
   ]
  },
  {
   "cell_type": "markdown",
   "metadata": {},
   "source": []
  },
  {
   "cell_type": "code",
   "execution_count": null,
   "metadata": {},
   "outputs": [],
   "source": []
  },
  {
   "cell_type": "markdown",
   "metadata": {},
   "source": [
    "## Header 2"
   ]
  },
  {
   "cell_type": "markdown",
   "metadata": {},
   "source": []
  },
  {
   "cell_type": "code",
   "execution_count": null,
   "metadata": {},
   "outputs": [],
   "source": []
  },
  {
   "cell_type": "markdown",
   "metadata": {},
   "source": [
    "## Header 3"
   ]
  },
  {
   "cell_type": "markdown",
   "metadata": {},
   "source": []
  },
  {
   "cell_type": "code",
   "execution_count": null,
   "metadata": {},
   "outputs": [],
   "source": []
  }
 ],
 "metadata": {
  "kernelspec": {
   "display_name": "Python 3 (ipykernel)",
   "language": "python",
   "name": "python3"
  },
  "language_info": {
   "codemirror_mode": {
    "name": "ipython",
    "version": 3
   },
   "file_extension": ".py",
   "mimetype": "text/x-python",
   "name": "python",
   "nbconvert_exporter": "python",
   "pygments_lexer": "ipython3",
   "version": "3.10.10"
  },
  "widgets": {
   "application/vnd.jupyter.widget-state+json": {
    "state": {},
    "version_major": 2,
    "version_minor": 0
   }
  }
 },
 "nbformat": 4,
 "nbformat_minor": 4
}
