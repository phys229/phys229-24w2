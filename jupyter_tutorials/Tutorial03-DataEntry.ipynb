{
 "cells": [
  {
   "cell_type": "markdown",
   "metadata": {
    "id": "cfb565d7-c24d-428b-8a45-0ef389d05889"
   },
   "source": [
    "# Jupyter Tutorial 03 - The Data Entry2 Library"
   ]
  },
  {
   "cell_type": "markdown",
   "metadata": {
    "id": "6bc68677-06e8-4ed7-b179-cc94e02bac3c"
   },
   "source": [
    "Sometimes you will collect just a few measurements and do some simple calculations with them. To measure Hooke's Law for a spring, you could just measure two compressions (distances) and two forces, and do a simple calculation. In general, however, the labs in this course will consist of making multiple measurements, with the goal to increase the quality of successive measurements. This is reflective of real scientific research, where we are constantly seeking to improve our measurement techniques to get a better understanding of the system we are studying.\n",
    "\n",
    "If we have multiple measurements of the same quantity, in theory we could define a new Python variable for each measurement. However, this is clunky and quickly becomes confusing. A better way to organize data from multiple measurements is in a structure called an array. To enter our data into arrays, we'll use a library that allows us to easily enter, view and modify our array data with a **spreadsheet**-like interface. We'll use a library called 'data_entry2' to record our data, and transfer this data into Python **vectors**  (arrays) to perform subsequent calculations. A vector is simply a set of values stored under a single variable name."
   ]
  },
  {
   "cell_type": "markdown",
   "metadata": {
    "id": "935060f2-3d7d-4649-97b9-cbaad17297cd"
   },
   "source": [
    "## Spreadsheets in Python: using the 'data_entry2' library to store data"
   ]
  },
  {
   "cell_type": "markdown",
   "metadata": {
    "id": "692a435c-b783-4be1-8817-5b1cb6019aab"
   },
   "source": [
    "First, let's load in the 'numpy' and 'data_entry2' library by running the Python cell below. \n",
    "\n",
    "<span style=\"color:red\">**If data_entry2 is not already installed, the code below will install it and then you should follow the additional instructions below**</span>\n",
    "1. Navigate to Settings->Automatically Save Widget State and make sure that option is turned on (select it so it has a check mark)\n",
    "2. Reload the browser tab\n",
    "3. Execute the cell near the bottom of Lab 00 that installs the data_entry2 module\n",
    "4. Navigate to File -> Hub Control Panel -> Stop My Server\n",
    "5. Then wait for a minute or two, and then restart. Close the old leftover tabs."
   ]
  },
  {
   "cell_type": "code",
   "execution_count": null,
   "metadata": {
    "colab": {
     "base_uri": "https://localhost:8080/",
     "height": 324
    },
    "executionInfo": {
     "elapsed": 222,
     "status": "error",
     "timestamp": 1659312788762,
     "user": {
      "displayName": "Carl Michal",
      "userId": "15938250714407745167"
     },
     "user_tz": 420
    },
    "id": "b9960da9-58b4-444f-9444-8ad89fb0fe7f",
    "outputId": "f38d165a-ecce-40d0-cca1-19742cd25877"
   },
   "outputs": [],
   "source": [
    "import numpy as np\n",
    "try:\n",
    "    import data_entry2\n",
    "    print(\"data_entry2 is already installed.\")\n",
    "except ImportError:\n",
    "    print(\"data_entry2 is not installed. Installing...\")\n",
    "    import sys\n",
    "    !{sys.executable} -m pip install data_entry2 jupyter_archive ipysheet\n",
    "    print(\"data_entry2 has been successfully installed.\")\n",
    "    print(\"Follow the directions in the markdown cell above to ensure your system is ready to use data_entry2\")"
   ]
  },
  {
   "cell_type": "markdown",
   "metadata": {
    "id": "d0635142-366f-4216-a32d-56b4e1e59906"
   },
   "source": [
    "The 'numpy' library is also loaded in since 'data_entry2' depends on it. If the above cell ran with no error messages, then you are good to proceed. If not, please consult the 'Setting Up Jupyter Notebooks' document in Canvas for troubleshooting.\n",
    "\n",
    "The two primary functions of 'data_entry2' in this course will be creating and copying spreadsheets. Let's start by creating a new spreadsheet by running the Python cell below. \n",
    "\n",
    "After  you've done that, the generated spreadsheet should be visible with three blank columns. Notice that after running, 'lab02_prelab_data.csv' now exists in the current working directory (visible on the side panel). All changes you make to the spreadsheet will be immediately saved.\n",
    "\n",
    "The structure of the spreadsheet is as follows: \n",
    "- Each measurement variable has its own column\n",
    "- The first row labels these variables with a title\n",
    "- The second row indicates the units of each variable\n",
    "- The rows that follow each store unique measurements of these variables\n",
    "\n",
    "The title and units for each column are important; the title is used to name the Python vectors that are generated from the spreadsheet (more on this later), and when combining measured variables in a calculation, e.g. using $x_1$, $x_2$, $m_1$, and $m_2$ to calculate $k$, the units of each measured variable remind us, for example if distances are measured in metres, cm, or mm. \n",
    "\n",
    "\n",
    "Next fill in the spreadsheet with some demo Hooke's law data. Add the values in the table below to the blank spreadsheet. Use the 'Add Column' button to ensure you have enough room to enter all the data.\n",
    "\n",
    "| Variable | x1    | u[x1]    | x2    | u[x2]    | m1    | u[m1]    | m2    | u[m2]    |\n",
    "|:--------:|:-----:|:--------:|:-----:|:--------:|:-----:|:--------:|:-----:|:--------:| \n",
    "| Units    | m     | m        | m     | m        | kg    | kg       | kg    | kg       |\n",
    "| 0        | 0.235 | 0.012    | 0.123 | 0.018    | 0.078 | 0.00023  | 0.345 | 0.011    |\n",
    "| 1        | 0.235 | 0.012    | 0.176 | 0.018    | 0.078 | 0.00023  | 0.234 | 0.011    |"
   ]
  },
  {
   "cell_type": "code",
   "execution_count": null,
   "metadata": {
    "executionInfo": {
     "elapsed": 80,
     "status": "aborted",
     "timestamp": 1659312788761,
     "user": {
      "displayName": "Carl Michal",
      "userId": "15938250714407745167"
     },
     "user_tz": 420
    },
    "id": "c97a9b97-edeb-45cd-84e4-3c35166e930c"
   },
   "outputs": [],
   "source": [
    "de = data_entry2.sheet(\"Tutorial03_data\")"
   ]
  },
  {
   "cell_type": "markdown",
   "metadata": {
    "id": "097a7979-8ec8-48e5-8cf0-09b07605b697"
   },
   "source": [
    "## Generating Python vectors from spreadsheet data"
   ]
  },
  {
   "cell_type": "markdown",
   "metadata": {
    "id": "0d6058e2-a3e6-4dbf-b8ee-e66e4c36335a"
   },
   "source": [
    "After you've entered the demo data into your spreadsheet, click the 'Generate Vectors' button to transfer the spreadsheet data into Python vectors. Each column will be turned into a separate Python vector. The variable name of each vector is determined by taking the title of the column and appending 'Vec' to the end. For instance, if we have a column with the title 'time', then the Python vector created will be 'timeVec'. When you generate the vectors, data_entry2 will tell you the names of the variables it created, and show you all of the values in each variable. Make sure to look at the output you get after pressing the button - it will also tell you if anything went wrong. Try, for example, changing one of the zeros in a number to the letter 'o' (double-click a cell to edit it) and generating the vectors again to see what happens. Don't forget to fix it and regenerate the vectors afterwards - making sure each vector has two elements!\n",
    "\n",
    "Some general tips:\n",
    "- The title of each column should be simple yet descriptive of the variable. For instance, if we are storing $x_1$ measurements in a column, we might want to title this column 'x1' rather than 'uncompressed length'.\n",
    "- Any special characters or spaces in a title will be stripped when generating the Python vector variable names. For example, if we title the $u[x_1]$ column as 'u[x1]', the generated vector will have the variable name ux1Vec. \n",
    "- If you want to include any descriptive information for your rows, you can make a comment column, by adding a '$' before the title of that column.  'data_entry' will know to skip that column when generating vectors. This may be useful for adding a short description of the row, e.g. 'demo round', 'small compression', 'large compression'."
   ]
  },
  {
   "cell_type": "markdown",
   "metadata": {
    "id": "0c918aaf-7090-49ab-be2f-7dad92ab10fe"
   },
   "source": [
    "## Using vectors to make multiple calculations at once"
   ]
  },
  {
   "cell_type": "markdown",
   "metadata": {
    "id": "41529ed8-f4f6-4b52-8bc7-9730a98812e9"
   },
   "source": [
    "The generated vectors can now be used to make calculations from the data. In our case, we would like to calculate $k$ and $u[k]$. The great thing about vectors in Python is that they contain all measurements of a variable within a single data structure. This allows us to apply the formula that calculates $k$ or $u[k]$ to the vectors, rather than to individual measurements. In other words, if we have $N$ measurements, instead of applying the formulas of $k$ or $u[k]$ $N$ times (once for each measurement), we only have to apply them once!\n",
    "\n",
    "When the input to the formulas is a vector, the output is also a vector. Our end goal is a vector full of $k$ values and another vector full of $u[k]$ values, one value for each row of data in our spreadsheet (two in this case). However, like in Lab 01, it is helpful to break down the calculation of $k$ and $u[k]$ into simpler intermediate calculations. Let's start with $k$:\n",
    "\n",
    "$$ k = g \\cdot \\frac{|\\Delta m|}{|\\Delta x|} = g \\cdot \\frac{|m_2 - m_1|}{|x_2 - x_1|} $$\n",
    "\n",
    "$\\Delta m$ and $\\Delta x$ are easy intermediate calculations. Assuming you titled your columns 'x1', 'x2', 'm1', and 'm2', the following cell will calculate $\\Delta m$ and $\\Delta x$ using Python (if you have different names, you may adapt the code to match your variable names)."
   ]
  },
  {
   "cell_type": "code",
   "execution_count": null,
   "metadata": {
    "id": "ac409536-19ec-4aca-99e4-56f766703279"
   },
   "outputs": [],
   "source": [
    "DmVec = m2Vec - m1Vec # change in mass\n",
    "DxVec = x2Vec - x1Vec # displacement"
   ]
  },
  {
   "cell_type": "markdown",
   "metadata": {
    "id": "fdd44f84-b54c-4cef-a658-dc449efdf000"
   },
   "source": [
    "We can use Python's 'print' function to view the output of our calculated vectors:"
   ]
  },
  {
   "cell_type": "code",
   "execution_count": null,
   "metadata": {
    "id": "d51044e4-e7f3-47c4-a67d-c10a839c5dcb"
   },
   "outputs": [],
   "source": [
    "print(\"Dm = \", DmVec)\n",
    "print(\"Dx = \", DxVec)"
   ]
  },
  {
   "cell_type": "markdown",
   "metadata": {
    "id": "67c0d8e7-a53f-4561-8aa6-ff1e3042fb16"
   },
   "source": [
    "As expected, each vector contains two *elements*, one for each row of data in our spreadsheet. Now we can calculate our vector of $k$."
   ]
  },
  {
   "cell_type": "code",
   "execution_count": null,
   "metadata": {
    "id": "d42d6e86-c459-4c3c-b2a0-76b15ab97023"
   },
   "outputs": [],
   "source": [
    "g = 9.801 # acceleration due to gravity, in Vancouver\n",
    "kVec = g * np.abs(DmVec) / np.abs(DxVec)"
   ]
  },
  {
   "cell_type": "markdown",
   "metadata": {
    "id": "1a5e74ec-1cc5-4503-b09e-d730af0073f3"
   },
   "source": [
    "**Question 1:** Copy one of the print statements above and adapt it in the Python cell below to print out the $k$ vector."
   ]
  },
  {
   "cell_type": "code",
   "execution_count": null,
   "metadata": {
    "id": "f5f7a630-5383-42da-b618-7b0b3d21b0eb"
   },
   "outputs": [],
   "source": []
  },
  {
   "cell_type": "markdown",
   "metadata": {
    "id": "986188f0-ed8f-4b6d-ae5c-aff3c44271c0"
   },
   "source": [
    "## Indexing specific elements of a Python vector"
   ]
  },
  {
   "cell_type": "markdown",
   "metadata": {
    "id": "98b82844-7ad2-4777-90a8-d12c1f9deb2f"
   },
   "source": [
    "While the vector structure is very handy for making repeated calculations as described above, sometimes we will need to access specific elements of a vector. This is known as *indexing*. Each element in a vector can be indexed with a unique number, starting at zero and increasing by one. \n",
    "\n",
    "In all of our vectors so far, we only have two elements, each element corresponding to a row of data in our spreadsheet. You may have noticed that the rows of data in the spreadsheet were labeled, also starting at zero and increasing by one. This was intentional! For instance, if we want to access element zero from the vector 'x2Vec', we would type:"
   ]
  },
  {
   "cell_type": "code",
   "execution_count": null,
   "metadata": {
    "id": "cabeb5a5-8507-46c0-a127-4c65e54d59ee"
   },
   "outputs": [],
   "source": [
    "x2Vec[0]"
   ]
  },
  {
   "cell_type": "markdown",
   "metadata": {
    "id": "9e6d5120-aea8-4721-8134-d1efdc952703"
   },
   "source": [
    "Verify that this matches the data entry in the spreadsheet for row 0 under 'x2'. Similarly, we can access element 1 as:"
   ]
  },
  {
   "cell_type": "code",
   "execution_count": null,
   "metadata": {
    "id": "dcdd0444-754c-410a-8b2d-2f533500a800"
   },
   "outputs": [],
   "source": [
    "x2Vec[1]"
   ]
  },
  {
   "cell_type": "markdown",
   "metadata": {
    "id": "db2357e0-50bc-4308-84ef-a3e591dbd5be"
   },
   "source": [
    "The utility of indexing can be seen in the following examples. Let's say we want to calculate the average of two of our $k$ values. This can be accomplished by typing:"
   ]
  },
  {
   "cell_type": "code",
   "execution_count": null,
   "metadata": {
    "id": "541a8ff6-0b45-4fcd-8558-b776118f9758"
   },
   "outputs": [],
   "source": [
    "(kVec[0] + kVec[1]) / 2"
   ]
  },
  {
   "cell_type": "markdown",
   "metadata": {
    "id": "d35b8eb5-ac8f-48b3-b1b6-201974b66366"
   },
   "source": [
    "**Question 2:** Use indexing to calculate the percentage difference between the two $k$ values in the Python cell below. The percentage difference between two values $A$ and $B$ is defined as:\n",
    "\n",
    "$$ \\%\\mathrm{diff}(A,B) = 100 \\times \\left(\\frac{A}{B} - 1 \\right) $$"
   ]
  },
  {
   "cell_type": "code",
   "execution_count": null,
   "metadata": {
    "id": "4c73c557-7308-4a23-a6a1-af6e740c0dd3"
   },
   "outputs": [],
   "source": []
  },
  {
   "cell_type": "markdown",
   "metadata": {
    "id": "2c350095-10c2-49f4-b8f3-55e060794974"
   },
   "source": [
    "## Uncertainty propagation applied to Python vectors"
   ]
  },
  {
   "cell_type": "markdown",
   "metadata": {
    "id": "06e99739-7d25-4591-a6ae-c99434575634"
   },
   "source": [
    "Just as we applied the formula of $k$ to our data vectors, the same can be done for the various uncertainty propagation formulas from Lab 1. To arrive at $u[k]$, again it is good practice to break down the uncertainty propagation into simpler calculations. One way to do this would be to first calculate $u[\\Delta m]$ and $u[\\Delta x]$, and then use these results to calculate $u[k]$:\n",
    "\n",
    "$$ u[\\Delta m] = \\sqrt{(u[m_1])^2 + (u[m_2])^2} $$\n",
    "$$ u[\\Delta x] = \\sqrt{(u[x_1])^2 + (u[x_2])^2} $$\n",
    "$$ u[k] = k \\cdot \\sqrt{\\left(\\frac{u[\\Delta m]}{\\Delta m}\\right)^2 + \\left(\\frac{u[\\Delta x]}{\\Delta x}\\right)^2} $$\n",
    "\n",
    "Examine the python cell below and compare to the equations just given, then run it to calculate $u[\\Delta m]$."
   ]
  },
  {
   "cell_type": "code",
   "execution_count": null,
   "metadata": {
    "id": "3b00ff29-ded3-49cd-9a24-4eb8fc054252"
   },
   "outputs": [],
   "source": [
    "uDmVec = np.sqrt(um1Vec**2 + um2Vec**2)\n",
    "print(\"u[Dm] = \", uDmVec)"
   ]
  },
  {
   "cell_type": "markdown",
   "metadata": {
    "id": "c46e1b11-0c44-4c4b-b409-0660df28bcc7"
   },
   "source": [
    "**Question 3:** Adapt the above code in the Python cell below to calculate and print out $u[\\Delta x]$"
   ]
  },
  {
   "cell_type": "code",
   "execution_count": null,
   "metadata": {
    "id": "08bc203c-3971-4ceb-8358-cd42a34ee4f3"
   },
   "outputs": [],
   "source": [
    "uDxVec = "
   ]
  },
  {
   "cell_type": "markdown",
   "metadata": {
    "id": "4459d375-1415-44d8-a347-762b2154d51c"
   },
   "source": [
    "With $u[\\Delta m]$ and $u[\\Delta x]$ calculated, all that remains is to use the last formula above to calculate $u[k]$:"
   ]
  },
  {
   "cell_type": "code",
   "execution_count": null,
   "metadata": {
    "id": "2f567f9d-7012-48c8-9bb7-d54ee35f8a33"
   },
   "outputs": [],
   "source": [
    "ukVec = kVec * np.sqrt( (uDmVec/DmVec)**2 + (uDxVec/DxVec)**2 )\n",
    "print(\"u[k] = \", ukVec)"
   ]
  },
  {
   "cell_type": "markdown",
   "metadata": {
    "id": "9cf2931f-db40-4579-a177-789e5c2ef1e8",
    "tags": []
   },
   "source": [
    "## Introduction to relative uncertainty and how to calculate it"
   ]
  },
  {
   "cell_type": "markdown",
   "metadata": {
    "id": "1feb1894-0568-44a1-a9c0-cfefda4feb4d"
   },
   "source": [
    "If we have a measurement $A \\pm u[A]$, the relative uncertainty is the ratio $u[A]/A$, which is a representation of how large the uncertainty is relative to the value it is attached to. The concept of precision can be tied to the concept of relative uncertainty, where increasing the precision of a measurement corresponds to reducing or lowering its relative uncertainty. Let’s have a look at why this quantity might be useful. \n",
    "\n",
    "- Uncertainty on its own can’t be “good” or “bad” without knowing how big it is relative to the measurement \n",
    "\n",
    "**Self-test Question:** Imagine you are comparing 3 different length measurements, trying to compare them in terms of their precision/relative uncertainty. Which of these do you think is most precise/has the lowest relative uncertainty? \n",
    "\n",
    "A) 100 ± 1 m:     The length of a sprinting track \\\n",
    "B) 100 ± 10 m:   The length of a recreational soccer field \\\n",
    "C) 1000 ± 10 m: The distance to the store \\\n",
    "D) More than one of these is tied for most precise\n",
    "\n",
    "Click on the '+' of the hidden cell below to reveal the answer."
   ]
  },
  {
   "cell_type": "markdown",
   "metadata": {
    "id": "28271d13-9dbf-4a2d-bab9-7911f8716fa8",
    "tags": []
   },
   "source": [
    "### Answer"
   ]
  },
  {
   "cell_type": "markdown",
   "metadata": {
    "id": "4d749de8-41dc-4c06-860d-1f443714da64"
   },
   "source": [
    "The correct answer is D. Let’s do some quick calculations to see why. For option A, the relative uncertainty is 1m/100m = 0.01 = 1%. For option B, the relative uncertainty is 10m/100m = 0.1 = 10%. For option C, the relative uncertainty is 10m/1000m = 0.01 = 1%. Although A has the smallest absolute uncertainty (1m), when we look at relative uncertainty we see that options A and C have the same relative uncertainties, which are both 0.01."
   ]
  },
  {
   "cell_type": "markdown",
   "metadata": {
    "id": "7c9cc8c3-aa5d-4ce7-9c5a-a6f4a5a1ed69"
   },
   "source": [
    "### Calculating relative uncertainty in $k$"
   ]
  },
  {
   "cell_type": "markdown",
   "metadata": {
    "id": "9250a665-e542-48d7-aacc-64eb1096390b"
   },
   "source": [
    "**Question 4:** Use the definition of relative uncertainty above to calculate the relative uncertainty of each $k$ value in the Python cell below (use only a single line of code). Which of the two values is more precise?"
   ]
  },
  {
   "cell_type": "code",
   "execution_count": null,
   "metadata": {
    "id": "8a73bfd6-ca30-4e7c-a8f6-89c31da601a2"
   },
   "outputs": [],
   "source": []
  },
  {
   "cell_type": "markdown",
   "metadata": {
    "id": "05e863f3-4fee-472d-9679-c972b00a09e8"
   },
   "source": [
    "## Copying a spreadsheet"
   ]
  },
  {
   "cell_type": "markdown",
   "metadata": {
    "id": "09975c8b-625c-4159-97e7-ecbdac7a2c02"
   },
   "source": [
    "Sometimes it may be useful to make a copy of an existing spreadsheet to overwrite or add new data and save this to a new file, while leaving the old file untouched. This is especially worthwhile if the structure of the new spreadsheet, i.e. the column titles and units, needs to be identical or very close to the existing spreadsheet.\n",
    "\n",
    "The `data_entry2` library makes copying spreadsheets straightforward. Take a look at the code below to see how it is done, then run the cell when you are ready."
   ]
  },
  {
   "cell_type": "code",
   "execution_count": 1,
   "metadata": {
    "id": "f1a91f39-5fe9-4624-b988-330f50abe718"
   },
   "outputs": [
    {
     "ename": "NameError",
     "evalue": "name 'data_entry2' is not defined",
     "output_type": "error",
     "traceback": [
      "\u001b[1;31m---------------------------------------------------------------------------\u001b[0m",
      "\u001b[1;31mNameError\u001b[0m                                 Traceback (most recent call last)",
      "\u001b[1;32m<ipython-input-1-2b4ff40b54b0>\u001b[0m in \u001b[0;36m<module>\u001b[1;34m\u001b[0m\n\u001b[0;32m     11\u001b[0m \u001b[1;31m# Every later time you execute this cell, it just uses the new spreadsheet, but never copies it again.\u001b[0m\u001b[1;33m\u001b[0m\u001b[1;33m\u001b[0m\u001b[1;33m\u001b[0m\u001b[0m\n\u001b[0;32m     12\u001b[0m \u001b[1;33m\u001b[0m\u001b[0m\n\u001b[1;32m---> 13\u001b[1;33m \u001b[0mde2\u001b[0m \u001b[1;33m=\u001b[0m \u001b[0mdata_entry2\u001b[0m\u001b[1;33m.\u001b[0m\u001b[0msheet_copy\u001b[0m\u001b[1;33m(\u001b[0m\u001b[0moldFilename\u001b[0m\u001b[1;33m,\u001b[0m \u001b[0mnewFilename\u001b[0m\u001b[1;33m)\u001b[0m\u001b[1;33m\u001b[0m\u001b[1;33m\u001b[0m\u001b[0m\n\u001b[0m",
      "\u001b[1;31mNameError\u001b[0m: name 'data_entry2' is not defined"
     ]
    }
   ],
   "source": [
    "oldFilename = \"Tutorial03_data\" # the filename of the spreadsheet that you want to copy\n",
    "newFilename = \"Tutorial03_data_edited\" # what you want filename of the copy to be\n",
    "\n",
    "# 'data_entry2' has a function 'sheet_copy' that first searches for oldFilename in the working directory.\n",
    "# If oldFilename does not exist, it will let you know in an error message. If oldFilename does exist,\n",
    "# 'sheet_copy' will make a copy of the spreadsheet and save it as newFilename. However, if newFilename\n",
    "# already exists in the working directory, 'copy_sheet' will instead load in newFilename instead of \n",
    "# overwriting it.\n",
    "\n",
    "# So - the first time you run this cell, the old spreadsheet will be copied to the new name.\n",
    "# Every later time you execute this cell, it just uses the new spreadsheet, but never copies it again.\n",
    "\n",
    "de2 = data_entry2.sheet_copy(oldFilename, newFilename) "
   ]
  },
  {
   "cell_type": "markdown",
   "metadata": {
    "id": "c4cc3069-2efc-4117-abd2-0a27396c96eb"
   },
   "source": [
    "You can now edit the above spreadsheet, with all changes being saved to the new filename 'lab02_prelab_data_edited.csv'. Keep in mind that if the column titles remain the same, then clicking 'Generate Vectors' will overwrite the vectors you generated from the previous spreadsheet, thus affecting any Python cells involving these vectors if you were to (re-)run them. ***Therefore, it is extremely important to run your Python analysis cells in a logical order, after ensuring the correct data has been used to generate vectors.***\n",
    "\n",
    "Let's see this in action:\n",
    "1. Change the 'x1' value in row 0 of the above spreadsheet from 0.235 m to 0.135 m.\n",
    "2. Click 'Generate Vectors'.\n",
    "3. Scroll up to where we calculate $\\Delta m$ and $\\Delta x$ then $k$ (under the 'Using vectors to make multiple calculations at once' heading) and re-run these cells in order. You should see element 0 of 'kVec' change from 23.36488393 N/m to 218.07225 N/m.\n",
    "\n",
    "If you ever become confused, you can always save your notebook, then click 'Edit -> Clear All Outputs'. This will delete all stored Python variables. Next, you can then re-run your cells in the order that they appear in the notebook and generating vectors after loading in the appropriate spreadsheet. \n",
    "\n",
    "Try this now; after clearing all variables, run each Python cell in order and click 'Generate Vectors' after loading in each spreadsheet. The Python cell below will print out 'kVec' twice, but if you've run everything properly element 0 in the first print statement ('old k') will be 23.36488393 N/m, whereas in the second print statement ('new k') element 0 will be 218.07225 N/m."
   ]
  },
  {
   "cell_type": "code",
   "execution_count": null,
   "metadata": {
    "id": "485487d8-b7e0-4d5b-b311-a523ae2c95e8"
   },
   "outputs": [],
   "source": [
    "print(\"old k = \", kVec)\n",
    "DmVec = m2Vec - m1Vec # change in mass\n",
    "DxVec = x2Vec - x1Vec # displacement\n",
    "kVec = g * np.abs(DmVec) / np.abs(DxVec)\n",
    "print(\"new k = \", kVec)"
   ]
  },
  {
   "cell_type": "markdown",
   "metadata": {
    "id": "49fd20e7-088b-4026-b13f-dfd41b8263bd"
   },
   "source": [
    "This may seem strange since we are asking Python to print out the same variable, 'kVec', but we are getting different results. However, it is the order that matters. 'kVec' is initially defined under the **'Using vectors to make multiple calculations at once'** heading, where it is using $\\Delta m$ and $\\Delta x$ from the old spreadsheet data. When we generate vectors from the new spreadsheet, our data vectors have been overwritten, but until we re-calculate $\\Delta m$ and $\\Delta x$ then $k$ using these new data vectors, the variable 'kVec' will be unchanged. \n",
    "\n",
    "Therefore, even though we load in the new data vectors above, the first time we print out 'kVec' it gives us $k$ based on the old data vectors. However, in the lines of code that follow, we re-calculate $\\Delta m$ and $\\Delta x$ then $k$. Finally, when we print out 'kVec' again it gives us $k$ from the new data vectors.\n",
    "\n",
    "Finally: what do you think will happen if you execute the above cell a second time? Try it and see if you are correct.\n",
    "\n",
    "This may be a little confusing, and can take a little while to get used to. The important thing to remember is that the values you calculate and display depend on the **order in which cells are executed**. You must ensure that your calculations make sense when executed in the order they appear in the notebook, and you must be careful when you scroll back and execute earlier cells.\n",
    "\n",
    "What we gain here is not having to rewrite our analysis code each time we copy and edit a spreadsheet. In a typical lab, you may do the following:\n",
    "\n",
    "1. Collect and store initial data in a spreadsheet\n",
    "2. Generate vectors\n",
    "3. Run some analysis code to obtain initial results\n",
    "3. In an improvement round, copy the spreadsheet and overwrite with new data or add new data points to those already collected\n",
    "4. Generate new vectors\n",
    "5. Copy the analysis code to a new cell below the copied spreadsheet,and re-run to obtain new results\n",
    "\n",
    "Doing so in this order preserves the history of what you did from a data collection and analysis point of view during the lab, which is helpful when it comes to reflecting and summarizing your results."
   ]
  }
 ],
 "metadata": {
  "colab": {
   "name": "Copy of Lab02_prelab_part2.ipynb",
   "provenance": [
    {
     "file_id": "1nldQYNRQdOO4q4QpqkiyoRpFEdn5LbUY",
     "timestamp": 1659312474970
    }
   ]
  },
  "kernelspec": {
   "display_name": "Python 3",
   "language": "python",
   "name": "python3"
  },
  "language_info": {
   "codemirror_mode": {
    "name": "ipython",
    "version": 3
   },
   "file_extension": ".py",
   "mimetype": "text/x-python",
   "name": "python",
   "nbconvert_exporter": "python",
   "pygments_lexer": "ipython3",
   "version": "3.7.6"
  }
 },
 "nbformat": 4,
 "nbformat_minor": 5
}
