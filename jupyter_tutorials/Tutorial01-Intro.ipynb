{
 "cells": [
  {
   "cell_type": "markdown",
   "metadata": {
    "tags": []
   },
   "source": [
    "# Tutorial 01 - Introduction to Jupyter"
   ]
  },
  {
   "cell_type": "markdown",
   "metadata": {},
   "source": [
    "In this exercise, we will go through some basics of using Jupyter notebooks. This will be the medium which encompasses your lab notebook, data recording, and data analysis!\n",
    "\n",
    "For some of you this is review, and you can skip through it quickly, but for many of you this will be your first encounter with Jupyter notebooks and with coding in general. Don't Panic! This is designed to get you started on the basics.\n",
    "\n",
    "The first thing to know is that the notebook you are working in today is stored 'in the cloud' in a service operated by UBC. You are working in your own copy of this document and any changes you make to it are automatically saved frequently. If you want to force it to save immediately, you can type: CTRL+S, or go to File->Save Notebook. "
   ]
  },
  {
   "cell_type": "markdown",
   "metadata": {
    "tags": []
   },
   "source": [
    "## Cells - Code and Markdown"
   ]
  },
  {
   "cell_type": "markdown",
   "metadata": {},
   "source": [
    "The first thing we will introduce is the \"base unit\" of the Jupyter notebook, the \"cell.\" There are two types of cells; Code cells (where you can write and run Python code) and Markdown cells (where you can write text, and also create headings and equations). The benefit of using a Jupyter notebook for these labs is that you can seamlessly alternate between Markdown and Code cells. In a PHYS 119 lab session, we will generally have periods of notetaking when you are familiarizing yourself with the equipment for an experiment, coming up with a measurement plan, explaining your results and analysis, as well as planning and executing improvements. At other times, you will be using Python code to perform analysis and calculations on your data. A Jupyter notebook thus allows you to seamlessly transition between notetaking and analysis. Formatted text is entered in Markdown while the analysis will be done in a programming language called Python.\n",
    "\n",
    "This cell that you are currently reading is a markdown cell."
   ]
  },
  {
   "cell_type": "code",
   "execution_count": null,
   "metadata": {},
   "outputs": [],
   "source": [
    "# This cell is a code cell.\n",
    "x = 3.1415\n",
    "y = 2.7\n",
    "z = x + y"
   ]
  },
  {
   "cell_type": "markdown",
   "metadata": {
    "tags": []
   },
   "source": [
    "## Editing and Running Markdown Cells"
   ]
  },
  {
   "cell_type": "markdown",
   "metadata": {},
   "source": [
    "Markdown cells can be edited by double clicking them. They can be then run (to be displayed in formatted form) either by pressing Shift+Enter, or by clicking the \"play\" button in the top toolbar.\n",
    "\n",
    "**Try it!**\n",
    "- double click on this cell\n",
    "- add your favourite quote between the quotation marks at the bottom, \n",
    "- use Shift+Enter to 'execute' the cell \n",
    "\n",
    "(where for a markdown cell, 'execute' just means: display the formatted text).\n",
    "\n",
    "\" \""
   ]
  },
  {
   "cell_type": "markdown",
   "metadata": {
    "tags": []
   },
   "source": [
    "## Adding New Cells"
   ]
  },
  {
   "cell_type": "markdown",
   "metadata": {},
   "source": [
    "New cells can be added using the \"+\" button that you see in the top toolbar (in between the floppy disk (save) and scissor (cut) buttons). You can add a new cell above the currently highlighted cell (indicated by a blue bar on the left side) by pressing Esc - a (Esc first, then a) or a cell below with Esc - b. \n",
    "\n",
    "After creating a new cell, you can change the cell type using the dropdown menu in the same toolbar (to the right of the 'double play' (rerun notebook) button. You can choose between Markdown, Code and Raw.\n",
    "\n",
    "**Try it:**\n",
    "- Create a new cell now using the '+' button\n",
    "- change the type to Markdown\n",
    "- Write a few words\n",
    "- 'Execute' the cell with Shift-Enter"
   ]
  },
  {
   "cell_type": "markdown",
   "metadata": {
    "tags": []
   },
   "source": [
    "## Typefaces, Headings & Lists in Markdown"
   ]
  },
  {
   "cell_type": "markdown",
   "metadata": {},
   "source": [
    "Within Markdown, we can do things like making text **bold** or *in italics* (or ***both***).\n",
    "\n",
    "In this cell, and in those below, you can see how to do the formatting by double clicking the cell to see the editable text, then use Shift+Enter to return to the formatted version."
   ]
  },
  {
   "cell_type": "markdown",
   "metadata": {},
   "source": [
    "Headings can be created by placing \"#\" symbols at the beginning of a line of markdown text. The more #s you have in front of a heading, the smaller the heading it will be (e.g # Large Heading, ## Medium Heading, ### Small Heading). You can also compress the size of a notebook by hiding cells under a heading; you can hide/unhide by clicking the triangle to the left of any given heading."
   ]
  },
  {
   "cell_type": "markdown",
   "metadata": {
    "tags": []
   },
   "source": [
    "### This is a small heading"
   ]
  },
  {
   "cell_type": "markdown",
   "metadata": {},
   "source": [
    "You can make numbered lists in markdown:\n",
    "1. First entry\n",
    "2. Second entry\n",
    "3. Third entry\n",
    "\n",
    "Or unnumbered bullet points:\n",
    "- A thing\n",
    "- Another thing\n",
    "- Yet another thing\n",
    "\n",
    "both of which may be useful for taking notes.\n",
    "\n",
    "It's also useful to know about ~~strike through~~ for when you want to go back and \"remove\" text. In lab notebooks nothing should ever be removed - but sometimes you realize that you weren't on the right track and want to indicate that you're thinking has changed. You start and end strikethrough with a pair of tildes: ~"
   ]
  },
  {
   "cell_type": "markdown",
   "metadata": {
    "tags": []
   },
   "source": [
    "## Formatting Math in Markdown"
   ]
  },
  {
   "cell_type": "markdown",
   "metadata": {},
   "source": [
    "A powerful part of Markdown is the ability to type mathematical expressions through a typesetting system known as $\\LaTeX$. While we won't require any real proficiency with $\\LaTeX$ in this course, it may be useful for formatting the various equations that we will come across when looking at various physical laws or formulas for calculating uncertainties. Most of the time, we will provide you with a formula and you can copy + paste it into your notebook."
   ]
  },
  {
   "cell_type": "markdown",
   "metadata": {},
   "source": [
    "If you want to type mathematical expressions \"in-line\", surround them with single \\\\$s. For example:\n",
    "\n",
    "The mass-energy equivalence $E = mc^2$ is attributed to Albert Einstein."
   ]
  },
  {
   "cell_type": "markdown",
   "metadata": {},
   "source": [
    "If you want to type mathematical expressions as equations, surround them with double \\\\$s. For example:\n",
    "\n",
    "The solution to the quadratic equation $ax^2 + bx + c= 0$ is given by:\n",
    "\n",
    "$$ x = \\frac{-b \\pm \\sqrt{b^2 - 4ac}}{2a}$$"
   ]
  },
  {
   "cell_type": "code",
   "execution_count": null,
   "metadata": {
    "tags": []
   },
   "outputs": [],
   "source": [
    "## How to Write Math in Markdown (Optional)"
   ]
  },
  {
   "cell_type": "markdown",
   "metadata": {},
   "source": [
    "\"+\", \"-\", and \"=\", and numbers/symbols can be typed in $\\LaTeX$ as you would do normally. Some other commands that that may come in useful are below for your reference:\n",
    "\n",
    "Multiplication:\n",
    "$$A \\cdot B \\text{ or } A \\times B$$\n",
    "\n",
    "Division/Fractions:\n",
    "$$A / B \\ \\textrm{or}\\  \\frac{A}{B}$$\n",
    "\n",
    "Powers:\n",
    "$$y^{1/3} = x^2$$\n",
    "\n",
    "Roots:\n",
    "$$\\sqrt{2} \\neq \\sqrt[3]{2}$$\n",
    "\n",
    "Sums:\n",
    "$$y = \\sum_{i=1}^N x_i$$"
   ]
  },
  {
   "cell_type": "markdown",
   "metadata": {},
   "source": [
    "One can also type in Greek letters by typing the name of the Greek letter preceded by a backslash \\. Some that may be encountered during the lab are $\\sigma$, $\\Delta$ and $\\chi$. "
   ]
  },
  {
   "cell_type": "markdown",
   "metadata": {},
   "source": [
    "There is a whole world of markdown that we have not completely explored in this tutorial, but the curious can discover more! There is a short reference of the basics under the Help menu at the top of the Jupyter interface: Help->Markdown Reference. There is much more information at https://www.markdownguide.org. A two-page cheatsheet for math typesetting with $\\LaTeX$ can be found at http://tug.ctan.org/info/undergradmath/undergradmath.pdf."
   ]
  },
  {
   "cell_type": "markdown",
   "metadata": {
    "tags": []
   },
   "source": [
    "## Editing and Running Code Cells"
   ]
  },
  {
   "cell_type": "markdown",
   "metadata": {},
   "source": [
    "All the data taking, analysis, and display in this course will be done through Python. Like with $\\LaTeX$, we will not expect extensive knowledge or proficiency in this course (but those curious can look forward to PHYS 210!) However, we will want to become familiar enough to adapt and understand the provided code to accomplish the tasks for each lab.\n",
    "\n",
    "Code cells can be edited by clicking and typing. They can be executed just like markdown cells, by clicking the \"play\" button in the top toolbar, or by Shift + Enter. Either will run the python code in that cell."
   ]
  },
  {
   "cell_type": "code",
   "execution_count": null,
   "metadata": {},
   "outputs": [],
   "source": [
    "# This is a code cell.\n",
    "# Python treats any lines with a \"#\" in front as a comment.\n",
    "# So these lines will do nothing even if the cell is run.\n",
    "\n",
    "x = 5  # You can also put comments after code."
   ]
  },
  {
   "cell_type": "markdown",
   "metadata": {
    "tags": []
   },
   "source": [
    "## Arithmetic in python"
   ]
  },
  {
   "cell_type": "markdown",
   "metadata": {},
   "source": [
    "Arithmetic in python with numbers works almost exactly like you would expect it! Execute each of the cells below:"
   ]
  },
  {
   "cell_type": "code",
   "execution_count": null,
   "metadata": {},
   "outputs": [],
   "source": [
    "# Addition\n",
    "1 + 2"
   ]
  },
  {
   "cell_type": "code",
   "execution_count": null,
   "metadata": {},
   "outputs": [],
   "source": [
    "# Subtraction\n",
    "2.5 - 1.2"
   ]
  },
  {
   "cell_type": "code",
   "execution_count": null,
   "metadata": {},
   "outputs": [],
   "source": [
    "# Multiplication\n",
    "2 * 3"
   ]
  },
  {
   "cell_type": "code",
   "execution_count": null,
   "metadata": {},
   "outputs": [],
   "source": [
    "# Division\n",
    "6 / 2"
   ]
  },
  {
   "cell_type": "code",
   "execution_count": null,
   "metadata": {},
   "outputs": [],
   "source": [
    "# Exponentiation\n",
    "2**3  # Note the use of ** and not ^ (which means something completely different) in python"
   ]
  },
  {
   "cell_type": "code",
   "execution_count": null,
   "metadata": {},
   "outputs": [],
   "source": [
    "# Roots\n",
    "4**(1/2)"
   ]
  },
  {
   "cell_type": "markdown",
   "metadata": {
    "tags": []
   },
   "source": [
    "## Variables in python, printing"
   ]
  },
  {
   "cell_type": "markdown",
   "metadata": {},
   "source": [
    "It will be useful to store and handle values symbolically (instead of just working with individual numbers all the time). To this end, we introduce variables. The cell below can be run to set the value of the variable `x` to be 7. In python, the \"=\" symbol is used as an assignment operator, rather than checking if two things are equal (confusingly, that task is done by a double equals sign \"==\"... but this will not be necessary for this course!)"
   ]
  },
  {
   "cell_type": "code",
   "execution_count": null,
   "metadata": {},
   "outputs": [],
   "source": [
    "x = 7"
   ]
  },
  {
   "cell_type": "markdown",
   "metadata": {},
   "source": [
    "This stored value now persists across cells, so you can use this in future cells:"
   ]
  },
  {
   "cell_type": "code",
   "execution_count": null,
   "metadata": {},
   "outputs": [],
   "source": [
    "x"
   ]
  },
  {
   "cell_type": "markdown",
   "metadata": {},
   "source": [
    "However, sometimes you will want to see the value of something not just at the end of the cell (as we have been doing now) but at some intermediate point in the cell. For this, the print function is very useful. Try running the cell below, where we assign some values, and along the way `print` the value of `a` to see what it is:"
   ]
  },
  {
   "cell_type": "code",
   "execution_count": null,
   "metadata": {
    "tags": []
   },
   "outputs": [],
   "source": [
    "a = 1\n",
    "print(a)\n",
    "b = 2"
   ]
  },
  {
   "cell_type": "markdown",
   "metadata": {},
   "source": [
    "Note that we can also do all the usual arithmetic operations on variables (provided that the variables store numbers). For example, what do you expect the value of `c` to be below?"
   ]
  },
  {
   "cell_type": "code",
   "execution_count": null,
   "metadata": {},
   "outputs": [],
   "source": [
    "c = a + b\n",
    "print(c)"
   ]
  },
  {
   "cell_type": "markdown",
   "metadata": {},
   "source": [
    "We can also overwrite variables; `c` will be a new value when you run the following cell:"
   ]
  },
  {
   "cell_type": "code",
   "execution_count": null,
   "metadata": {},
   "outputs": [],
   "source": [
    "c = a * b\n",
    "print(c)"
   ]
  },
  {
   "cell_type": "markdown",
   "metadata": {
    "tags": []
   },
   "source": [
    "## Downloads & Setup\n",
    "\n",
    "We're almost done for today, just a couple more tasks to take care of.\n",
    "\n",
    "First: there are some features we need to configure within your UBC Jupyter account. Executing the code cell below will take of this.\n",
    "\n",
    "You only need to execute the next cell once. It won't cause any problems if you repeat it though.\n",
    "\n",
    "- Click on the next cell\n",
    "- Execute it with Shift+Enter\n",
    "- Look at the output section below. In the first few lines you should see 'Installation complete' to indicate that data_entry was successfully installed.\n",
    "- At the very bottom of the output there should be a line that reports that ipysheet and jupyter-archive were successfully installed.\n",
    "- If both tasks were performed successfully, add # signs in front of the last three lines in the cell below so that they won't ever be executed again.\n",
    "\n",
    "\n"
   ]
  },
  {
   "cell_type": "code",
   "execution_count": null,
   "metadata": {
    "tags": []
   },
   "outputs": [],
   "source": [
    "# Execute this cell to 1) install a module we will use for entering data in a \n",
    "# spreadsheet-like interface in later labs, and 2) install two extensions to the Jupyter \n",
    "# environment. One extension, ipysheet is used by the data entry module.\n",
    "# The other, jupyter-archive, allows you to download folders as .zip files.\n",
    "\n",
    "!wget -N --quiet https://www.phas.ubc.ca/~michal/data_entry.py # download data_entry.py\n",
    "%run data_entry.py  # install it.\n",
    "!pip install --user ipysheet jupyter-archive # install jupyter extensions."
   ]
  },
  {
   "cell_type": "markdown",
   "metadata": {
    "tags": []
   },
   "source": [
    "## Rerunning your notebook and notebook submissions"
   ]
  },
  {
   "cell_type": "markdown",
   "metadata": {},
   "source": [
    "At the end of a lab, before submitting your work, you may want to restart + rerun your entire notebook to make sure that everything runs correctly and without error. Let's practice how to do that here! \n",
    "\n",
    "- First, go to the very top bar in Jupyter lab (with File, Edit, View...) and then click \"Kernel\". From the dropdown menu, select \"Restart Kernel and Run All Cells\". It will take a few seconds for the entire notebook to execute.\n",
    "\n",
    "- You should look through the whole notebook and make sure it looks right. If the entire notebook runs without errors, fantastic! You're then ready to submit your work. If there are errors, see if there is something obvious you can fix. If you need help figuring out what's wrong, ask us!\n",
    "\n",
    "This notebook is in your private Jupyter account. To submit notebooks for marking, you'll need to download it, and submit to Canvas.\n",
    "\n",
    "- After you've executed and checked your notebook, choose: File->Save_and_Export_Notebook_As->HTML This will download an HTML version of your notebook to your local computer. This version can not be executed or modified. You may have to disable a pop-up blocker to allow the file to be downloaded.\n",
    "\n",
    "- Finally: to submit the html file that you just downloaded, you go to the appropriate assignment submission on Canvas. \n",
    "\n",
    "If there was anything in this notebook that you didn't understand or aren't comfortable with, now is a great time to talk to your table-mates about it or to ask the course staff."
   ]
  },
  {
   "cell_type": "markdown",
   "metadata": {},
   "source": [
    "# Done\n"
   ]
  }
 ],
 "metadata": {
  "kernelspec": {
   "display_name": "Python 3",
   "language": "python",
   "name": "python3"
  },
  "language_info": {
   "codemirror_mode": {
    "name": "ipython",
    "version": 3
   },
   "file_extension": ".py",
   "mimetype": "text/x-python",
   "name": "python",
   "nbconvert_exporter": "python",
   "pygments_lexer": "ipython3",
   "version": "3.7.6"
  }
 },
 "nbformat": 4,
 "nbformat_minor": 5
}
