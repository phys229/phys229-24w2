{
 "cells": [
  {
   "cell_type": "markdown",
   "metadata": {
    "id": "be801a41-7629-4a22-91ba-b5730218040a"
   },
   "source": [
    "# Tutorial 02 - Review of Jupyter notebook basics"
   ]
  },
  {
   "cell_type": "markdown",
   "metadata": {
    "id": "5jYTkk2w0fZ8"
   },
   "source": [
    "Most of this tutorial will revisit material we saw in Tutorial 01 to give you a bit more practice. Notice that most of the content below is collapsed - to expand the cells under each heading, simply click on the button that indicates there are cells hidden, or on the arrow that appears when you hover over a heading."
   ]
  },
  {
   "cell_type": "markdown",
   "metadata": {
    "id": "f91ff83e-404f-485a-9ec5-d32675ad0829",
    "jp-MarkdownHeadingCollapsed": true,
    "tags": []
   },
   "source": [
    "## Cell formats"
   ]
  },
  {
   "cell_type": "markdown",
   "metadata": {
    "id": "ea8dd86d-af48-41f5-b7f0-29c346dbfdc6"
   },
   "source": [
    "Recall from Tutorial 00 that the basic elements of a Jupyter notebook are cells. In each individual cell we can choose one of three formats: **Markdown, Code, or raw (no special formatting)**. For the purposes of this course, we will only select **Markdown** or **Code**. The cell type can be changed from the drop-down button within the top banner above the Jupyter notebook editor (to the right of the double play button).\n",
    "\n",
    "The benefit of using a Jupyter notebook for the labs is that you can alternate between Markdown and Code cells. In a typical lab session, we will have periods of note-taking when you are familiarizing yourself with the equipment for an experiment, coming up with a measurement plan, explaining your results and analysis, as well as planning and executing improvements. At other times, you will be using Python code to store data and perform analysis. A Jupyter notebook thus allows you to seamlessly transition between note-taking via formatted text (Markdown) and analysis (Python code)."
   ]
  },
  {
   "cell_type": "markdown",
   "metadata": {
    "id": "0376dd6e-185a-4220-8917-1bf9d6b4faaf",
    "jp-MarkdownHeadingCollapsed": true,
    "tags": []
   },
   "source": [
    "## Markdown formatted cells"
   ]
  },
  {
   "cell_type": "markdown",
   "metadata": {
    "id": "ebef5781-7d1c-4c7b-8532-6403a2e228b9"
   },
   "source": [
    "If you double click on this cell, you will notice this cell has Markdown format. Markdown is a simple mark-up language to display formatted text. Within Markdown, we can do things like making text **bold** or *in italics* (or ***both***). ~~Strike-through~~ will also be useful.\n",
    "\n",
    "We can also make bullet points:\n",
    "- Item 1\n",
    "- Item 2\n",
    "- Item 3\n",
    "\n",
    "As well as embed equations using Latex Formatting (pronounced *lay-tek*). This can be done to produce equations either inline, $ y=mx+b $, or centred on a separate line: \n",
    "\n",
    "$$ x = \\frac{-b \\pm \\sqrt{b^2 - 4ac}}{2a} $$\n",
    "\n",
    "Once you are done editing a cell, simply press 'Shift + Enter' to run the cell. If it is a Markdown cell like this one, running the cell will convert the Markdown code to formatted text. After doubling-clicking on this cell, try this out by pressing 'Shift + Enter'."
   ]
  },
  {
   "cell_type": "markdown",
   "metadata": {
    "id": "7d9c6c79-ea36-42c5-92f6-87e8ca35f1a8"
   },
   "source": [
    "You can also add a new cell above the current cell (highlighted by a blue bar on the left side) by pressing Esc-a, and a cell below by pressing Esc-b (or by pressing the \"+\" symbol in the toolbar above)."
   ]
  },
  {
   "cell_type": "markdown",
   "metadata": {
    "id": "8820b7c4-2bfe-481d-a4df-c8526ea899c4"
   },
   "source": [
    "### Exercise 1: Making your own markdown cell"
   ]
  },
  {
   "cell_type": "markdown",
   "metadata": {
    "id": "e36087e9-92d7-49a9-9d18-6c8894f44fad"
   },
   "source": [
    "Let's try out the basic process of creating a Markdown cell. Add a new cell below this one and make sure it is formatted in Markdown. Then, brainstorm a few possible answers to the following question: *How do we know things in science?*\n",
    "\n",
    "Organize your answers using bullet points and preface the list with a title in boldface."
   ]
  },
  {
   "cell_type": "markdown",
   "metadata": {
    "id": "12c56e94-ff48-4222-99c2-16261b58146d",
    "jp-MarkdownHeadingCollapsed": true,
    "tags": []
   },
   "source": [
    "## The basics of Latex formating"
   ]
  },
  {
   "cell_type": "markdown",
   "metadata": {
    "id": "6e41d423-abba-4887-9901-149a555903d3"
   },
   "source": [
    "In this course, we will deal with equations as we generate and test models, as well as use formulas for calculating uncertainty. Latex is a special type of code within Markdown to create equations in a format you might encounter in textbooks and scientific papers. While the Latex language may seem confusing at first, after a few examples you may become more comfortable with how it works. Wedo not require you to use a lot of LaTeX code in this course, but it is a resource you may find convenient once you learn some basics.\n",
    "\n",
    "Equations in Latex are \"wrapped\" with dollar signs (\\\\$), so that the interpreter knows to format the code as an equation rather than text. If we do this amongst text, the equation will be formatted right beside the text, e.g. $ y=mx+b $. If we instead want an equation centred on a separate line, we need to use double dollar signs:\n",
    "\n",
    "$$ y=mx+b $$"
   ]
  },
  {
   "cell_type": "markdown",
   "metadata": {
    "id": "72cdc878-8c93-47b3-8bfe-27c58aa21093",
    "jp-MarkdownHeadingCollapsed": true,
    "tags": []
   },
   "source": [
    "### Exercise 2: Some practice with formatting expressions in Latex\n",
    "\n",
    "Create another markdown cell below. In that cell, find the Latex code from any equation you like from this site http://www.equationsheet.com and format the equation in-line/amongst text. Then, find a different equation and format it to be centered on a separate line."
   ]
  },
  {
   "cell_type": "markdown",
   "metadata": {
    "id": "647b907a-70ae-451f-9474-ade6ec24d06d"
   },
   "source": [
    "For the curious, the next two optional sections will go into some basics of typing mathematical expressions in Latex. However, this will not be required knowledge for this course, and more important is to know how to format Latex code that we will provide you."
   ]
  },
  {
   "cell_type": "markdown",
   "metadata": {
    "id": "9c46e5df-0d43-43c6-9aba-9fc7f8beeddc",
    "jp-MarkdownHeadingCollapsed": true,
    "tags": []
   },
   "source": [
    "## More basics of Latex (Optional)"
   ]
  },
  {
   "cell_type": "markdown",
   "metadata": {
    "id": "58620101-d054-4c70-b6e3-0711da643679"
   },
   "source": [
    "Simple mathematical operators like '+', '-', and '=' are placed as is in Latex code. Double-click on this cell to see to how to format multiplication and division:\n",
    "\n",
    "**Multiplication with '$\\times$':**\n",
    "\n",
    "$$ C = A \\times B $$\n",
    "\n",
    "**Multiplication with '$\\cdot$':**\n",
    "\n",
    "$$ C = A \\cdot B $$\n",
    "\n",
    "**Division using fractions:**\n",
    "\n",
    "$$ C = \\frac{A}{B} $$"
   ]
  },
  {
   "cell_type": "markdown",
   "metadata": {
    "id": "6d7ddc88-9a31-45a0-ae27-36246a87e8fd",
    "tags": []
   },
   "source": [
    "### Exercise 3: Making your own simple equation\n",
    "\n",
    "Add a new Markdown cell below. Copy and paste and following equation and simplify the expression (add an equal sign to the right of the existing equation and format the simplified expression):\n",
    "\n",
    "$$ z = \\frac{x + 2xy}{3x - xy} $$"
   ]
  },
  {
   "cell_type": "markdown",
   "metadata": {
    "id": "4c43de6d-a63d-4ef5-bd09-28ea96437ad1",
    "jp-MarkdownHeadingCollapsed": true,
    "tags": []
   },
   "source": [
    "## More involved Latex formatting"
   ]
  },
  {
   "cell_type": "markdown",
   "metadata": {
    "id": "5c14abcb-af33-462c-af00-a6162670536d"
   },
   "source": [
    "More complicated mathematical expressions like raising to a power, taking a square root, and summing are demonstrated below:\n",
    "\n",
    "**Raising to a power:**\n",
    "\n",
    "$$ y^2 = x^{-1/3} $$\n",
    "\n",
    "**Square root:**\n",
    "\n",
    "$$ y = \\sqrt{\\frac{x}{3}} $$\n",
    "\n",
    "**Summing:**\n",
    "\n",
    "$$ y = \\sum_{i=1}^N \\frac{x_i^2}{x_i + 4} $$\n",
    "\n",
    "In physics, Greek letters are often used to represent variables. These can also be formatted with Latex and some useful examples are shown below:\n",
    "\n",
    "- alpha: $\\alpha$\n",
    "- beta: $\\beta$\n",
    "- gamma: $\\gamma$\n",
    "- delta: $\\delta$ (lowercase); $\\Delta$ (uppercase)\n",
    "- sigma: $\\sigma$\n",
    "- rho: $\\rho$\n",
    "- chi: $\\chi$"
   ]
  },
  {
   "cell_type": "markdown",
   "metadata": {
    "id": "12558300-03ed-4553-94c3-273c54ec18f5",
    "tags": []
   },
   "source": [
    "### Question 4 (Optional): Making a more involved equation\n",
    "\n",
    "Add a new Markdown cell below and format the binomial expansion formula in Latex (formula found here: http://hyperphysics.phy-astr.gsu.edu/hbase/imgmth/algb3.gif)"
   ]
  },
  {
   "cell_type": "markdown",
   "metadata": {
    "id": "ab6c3166-0b0d-433c-8cc7-9c6ae75ff29c",
    "tags": []
   },
   "source": [
    "## Cells with Python code"
   ]
  },
  {
   "cell_type": "markdown",
   "metadata": {
    "id": "5feb37c2-eca5-468f-a88b-e4a3358693b5"
   },
   "source": [
    "As mentioned, all necessary data storing, handling, and analysis for these labs can be achieved within your Jupyter notebook using Python code. Like Latex, we do not expect you to become experts in Python by the end of this course, but rather become familiar enough with the language so that you can easily adapt examples of code provided for essential tasks in the lab."
   ]
  },
  {
   "cell_type": "markdown",
   "metadata": {
    "id": "d3c13d30-3b5a-4659-9109-79eb50eeebd1",
    "tags": []
   },
   "source": [
    "# Importing Libraries"
   ]
  },
  {
   "cell_type": "markdown",
   "metadata": {},
   "source": [
    "Python has a number of built-in libraries that make our coding lives much easier. At the beginning of a Jupyter notebook we will load these useful libraries in. Below is a code cell that loads a library that is very widely used for any numerical work in python: 'numpy'. It also loads 'data_entry' which is our own little module for entering data in a spreadsheet-like interface. We're not going to use data_entry the next tutorial, but we'll load it here, just to make sure that it has been installed correctly - you should have installed it in Tutorial 00. Click on the cell below and press 'Shift + Enter' to run the Python code. Note: if you only just finished the Lab 00 notebook (eg today), you will probably see an error when you do this - don't panic!"
   ]
  },
  {
   "cell_type": "code",
   "execution_count": null,
   "metadata": {
    "colab": {
     "base_uri": "https://localhost:8080/",
     "height": 324
    },
    "executionInfo": {
     "elapsed": 64,
     "status": "error",
     "timestamp": 1659394193329,
     "user": {
      "displayName": "Carl Michal",
      "userId": "15938250714407745167"
     },
     "user_tz": 420
    },
    "id": "15fab691-2fc5-41c9-b6d4-b4725da156f0",
    "outputId": "00fc9fe4-647d-402e-b0e9-7d0cd0a25c3e"
   },
   "outputs": [],
   "source": [
    "import numpy as np\n",
    "import data_entry"
   ]
  },
  {
   "cell_type": "markdown",
   "metadata": {
    "id": "45b4705a-7c24-40fe-a294-ab22e0d75b38"
   },
   "source": [
    "If all went well, (almost) nothing should have happened! If the code is executed, you should see a number in square brackets to the left of the Python cell. All this block of code did was load in the libraries we need, but we haven't told Python to do anything further yet. If instead you see some output that suggests there was a problem, see the Jupyter Troubleshooting link on Canvas. If you can't get this to work without an error, please see one of the course staff - you will need this for Tutorial 02."
   ]
  },
  {
   "cell_type": "markdown",
   "metadata": {
    "id": "7bdc343d-b922-48d3-863d-8e2ff92b76d6",
    "tags": []
   },
   "source": [
    "# Code cells and calculations\n"
   ]
  },
  {
   "cell_type": "markdown",
   "metadata": {},
   "source": [
    "Python, like most coding languages, works by defining variables which are stored in computer memory. We can then operate on those variables to produce useful data analysis results. \n",
    "\n",
    "Below, we define variables $a, b$ and set them to the numbers $2$ and $3$ using the assignment operator `=`. We also demonstrate the use of comments"
   ]
  },
  {
   "cell_type": "code",
   "execution_count": null,
   "metadata": {
    "id": "8d1324ed-6871-453a-a7ef-fc58a4db8768"
   },
   "outputs": [],
   "source": [
    "# Anything you write after a # will be ignored, as a comment! This is a whole line that is a comment...\n",
    "a = 2  # And this is a comment coming after actually useful code.\n",
    "b = 3"
   ]
  },
  {
   "cell_type": "markdown",
   "metadata": {
    "id": "6d3d72a2-088e-4924-b46a-79c4d27401ce"
   },
   "source": [
    "Below, we define a new variable $c$ as the sum of $a, b$ and then print it out using the print function."
   ]
  },
  {
   "cell_type": "code",
   "execution_count": null,
   "metadata": {
    "id": "04c64fea-a4e2-43d6-ae69-eae45bbc29d8",
    "outputId": "3cfee89a-c917-4060-e9a2-b5250fbdfc55"
   },
   "outputs": [],
   "source": [
    "c = a + b\n",
    "print(c)"
   ]
  },
  {
   "cell_type": "markdown",
   "metadata": {
    "id": "7d30a7e1-fc20-420f-8b59-c4db83c0ee89"
   },
   "source": [
    "Other than sums, we can also subtract (with `-`), multiply (with `*`), divide (with `/`), and exponentiate (with ^ written as `**`). Operations can be performed on variables, or just with raw numbers, as well."
   ]
  },
  {
   "cell_type": "code",
   "execution_count": null,
   "metadata": {
    "id": "a27ad42f-a511-4c35-b5f6-0d7975ddd16b",
    "outputId": "178badc4-6c95-45d7-c4ee-a15d6e67f355"
   },
   "outputs": [],
   "source": [
    "# Subtraction\n",
    "print(b - a)"
   ]
  },
  {
   "cell_type": "code",
   "execution_count": null,
   "metadata": {
    "id": "5ce27510-00ce-4034-9033-6a8140a063da",
    "outputId": "c1d6757c-4a15-4eb3-aca5-10915e844bb2"
   },
   "outputs": [],
   "source": [
    "# Multiplication\n",
    "print(4 * 5)"
   ]
  },
  {
   "cell_type": "code",
   "execution_count": null,
   "metadata": {
    "id": "7f8e0a62-b001-4d2a-b3d5-944f21d6427a",
    "outputId": "2cb80544-9036-4c40-ca74-23b9f3801a24"
   },
   "outputs": [],
   "source": [
    "# Division\n",
    "print (b / a)"
   ]
  },
  {
   "cell_type": "code",
   "execution_count": null,
   "metadata": {
    "id": "5a938bf8-836e-465b-a783-ead2465d5d44",
    "outputId": "03966162-46df-4005-97a0-e0540b7cb9b3"
   },
   "outputs": [],
   "source": [
    "# a to the power of b, i.e. 2^3\n",
    "print(a**b)"
   ]
  },
  {
   "cell_type": "code",
   "execution_count": null,
   "metadata": {
    "id": "5051a102-9579-4064-8b0b-bf1f35f05aa5",
    "outputId": "1777c9d1-ba24-4224-8a5f-c43d363b9978"
   },
   "outputs": [],
   "source": [
    "# a to the power of a half, i.e. sqrt(a)\n",
    "print(a**(0.5))"
   ]
  },
  {
   "cell_type": "markdown",
   "metadata": {
    "id": "c2c584b1-fd7b-4d82-9256-7bdbcf3fbc25"
   },
   "source": [
    "### Exercise 5:  Playing with Variables"
   ]
  },
  {
   "cell_type": "markdown",
   "metadata": {
    "id": "1c4208b2-afc7-410c-81a6-79a6c3c4e98a"
   },
   "source": [
    "Let's try an example where we might record and process data from a physics experiment. Suppose we had a toy car, and at two separate times $t_1, t_2$, we measured its position to be $x_1, x_2$.\n",
    "\n",
    "**Question 5.1** Create a new Code cell below. Suppose we measured $t_1$ to be `0` seconds, $t_2$ to be `4` seconds, $x_1$ to be `0.1` meters, and $x_2$ to be `10.5` meters. In the code cell below, create four variables `t1, t2, x1, x2` and set them to the numerical values based on these measurements. Use a comment to specify what the units of the measurements are."
   ]
  },
  {
   "cell_type": "markdown",
   "metadata": {
    "id": "3b784d3b-be2e-45a4-b672-2e408556e002"
   },
   "source": [
    "**Question 5.2** Create another code cell below. There, define two new variables `dt` ($\\Delta t$) and `dx` ($\\Delta x$) as the differences between `t2` and `t1` or `x2` and `x1` respectively, using the subtraction operation. Finally, print out `dx`."
   ]
  },
  {
   "cell_type": "markdown",
   "metadata": {
    "id": "b026bb0b-57be-4410-800e-65a00f50d68a"
   },
   "source": [
    "**Question 5.3** Create another code cell below. Then, define a variable `vav` as the average velocity of the toy car, by dividing `dx` by `dt`, according to the formula:\n",
    "\n",
    "$$v_{av} = \\frac{\\Delta x}{\\Delta t}$$.\n",
    "\n",
    "Finally, suppose that the toy car was travelling at a constant speed, so $v_{av} = v$. Then, calculate the kinetic energy of the car, assuming it has a mass of 3 kilograms, according to the formula:\n",
    "\n",
    "$$ T = \\frac{1}{2} m v^2$$\n",
    "\n",
    "and print it out (you should get 10.14 (Joules))."
   ]
  },
  {
   "cell_type": "markdown",
   "metadata": {},
   "source": [
    "**Question 5.4**\n",
    "Create one last code cell. In it, calculate the speed our 3 kg car would have if it had a kinetic energy of 35 J. To calculate a sqrt, use the numpy function, which you use this way: `s = np.sqrt(4)` \n",
    "\n",
    "Notice the `np.` in front of the `sqrt`. The `np.` is needed because the `sqrt` function is found in the numpy library (which we imported above and relabelled as np - since that is how everybody uses numpy)."
   ]
  }
 ],
 "metadata": {
  "colab": {
   "name": "prelab1_dev-ver3.ipynb",
   "provenance": []
  },
  "kernelspec": {
   "display_name": "Python 3",
   "language": "python",
   "name": "python3"
  },
  "language_info": {
   "codemirror_mode": {
    "name": "ipython",
    "version": 3
   },
   "file_extension": ".py",
   "mimetype": "text/x-python",
   "name": "python",
   "nbconvert_exporter": "python",
   "pygments_lexer": "ipython3",
   "version": "3.7.6"
  }
 },
 "nbformat": 4,
 "nbformat_minor": 5
}
